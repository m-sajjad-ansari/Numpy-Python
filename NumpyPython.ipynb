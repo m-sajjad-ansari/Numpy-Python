{
 "cells": [
  {
   "cell_type": "code",
   "execution_count": 2,
   "id": "4db1cead-941a-4dd3-b2c5-462e14631192",
   "metadata": {},
   "outputs": [
    {
     "name": "stdout",
     "output_type": "stream",
     "text": [
      "hello World\n"
     ]
    }
   ],
   "source": [
    "print(\"hello World\")"
   ]
  },
  {
   "cell_type": "markdown",
   "id": "0e50acb5-a508-4db0-97d9-dac0665515a0",
   "metadata": {},
   "source": [
    "# NUMPY"
   ]
  },
  {
   "cell_type": "code",
   "execution_count": 169,
   "id": "660450d6-2b76-468c-aac8-e3d48a948990",
   "metadata": {},
   "outputs": [
    {
     "name": "stdout",
     "output_type": "stream",
     "text": [
      "Time for List = 5.077225923538208\n",
      "Time for numpy array = 0.28137946128845215\n"
     ]
    }
   ],
   "source": [
    "# python list vs numpy array speed\n",
    "import time\n",
    "import numpy as np\n",
    "import matplotlib.pyplot as plt\n",
    "a=[i for i in range(10000000)]\n",
    "b=[i for i in range(10000000)]\n",
    "c=[]\n",
    "start=time.time()\n",
    "for i in range(len(a)):\n",
    "    c.append(a[i]+b[i])\n",
    "print(f\"Time for List = {time.time()-start}\")\n",
    "a=np.arange(10000000)\n",
    "b=np.arange(10000000)\n",
    "start=time.time()\n",
    "c=a+b\n",
    "print(f\"Time for numpy array = {time.time()-start}\")"
   ]
  },
  {
   "cell_type": "markdown",
   "id": "efb5d9a1-ab12-422d-b237-a1e098a5063c",
   "metadata": {},
   "source": [
    "## Different methods for array creation"
   ]
  },
  {
   "cell_type": "code",
   "execution_count": 19,
   "id": "3977d436-5cdb-4cd5-ad17-ecdf0c852757",
   "metadata": {},
   "outputs": [
    {
     "name": "stdout",
     "output_type": "stream",
     "text": [
      "a= [1 2 3]\n",
      "1\n"
     ]
    }
   ],
   "source": [
    "# Vector\n",
    "a=np.array([1,2,3])\n",
    "print(\"a=\",a)\n",
    "print(a.ndim)"
   ]
  },
  {
   "cell_type": "code",
   "execution_count": 18,
   "id": "e2ab0c64-8157-432b-b173-f1b1913d7a8d",
   "metadata": {},
   "outputs": [
    {
     "name": "stdout",
     "output_type": "stream",
     "text": [
      "b= [[1 2]\n",
      " [4 5]]\n",
      "2\n",
      "c= [[1 2 3]\n",
      " [4 5 6]\n",
      " [7 8 9]]\n",
      "2\n"
     ]
    }
   ],
   "source": [
    "#Matrix\n",
    "b=np.array([[1,2],[4,5]])\n",
    "c=np.array([[1,2,3],[4,5,6],[7,8,9]])\n",
    "print(\"b=\",b)\n",
    "print(b.ndim)\n",
    "print(\"c=\",c)\n",
    "print(c.ndim)"
   ]
  },
  {
   "cell_type": "code",
   "execution_count": 17,
   "id": "afb1bcee-fe06-4479-bf8b-a810605c8716",
   "metadata": {},
   "outputs": [
    {
     "name": "stdout",
     "output_type": "stream",
     "text": [
      "d= [[[1 2 3]\n",
      "  [4 5 6]]\n",
      "\n",
      " [[7 8 9]\n",
      "  [1 2 3]]]\n",
      "3\n"
     ]
    }
   ],
   "source": [
    "# Tensor\n",
    "d=np.array([[[1,2,3],[4,5,6]],[[7,8,9],[1,2,3]]])\n",
    "print(\"d=\",d)\n",
    "print(d.ndim)"
   ]
  },
  {
   "cell_type": "code",
   "execution_count": 25,
   "id": "f29fc8e6-b2fd-48bf-bb5a-3284c65ced46",
   "metadata": {},
   "outputs": [
    {
     "name": "stdout",
     "output_type": "stream",
     "text": [
      "[False  True  True]\n",
      "['0' '-2' '4']\n",
      "[0. 1. 1.]\n",
      "[ 0.+0.j -2.+0.j  4.+0.j]\n"
     ]
    }
   ],
   "source": [
    "# Creating with different data types\n",
    "x=np.array([0,-2,4],dtype=bool)\n",
    "print(x)\n",
    "y=np.array([0,-2,4],dtype=str)\n",
    "print(y)\n",
    "z=np.array((x),dtype=float)\n",
    "print(z)\n",
    "z=np.array((y),dtype=complex)\n",
    "print(z)"
   ]
  },
  {
   "cell_type": "code",
   "execution_count": 54,
   "id": "9d8a9856-d6a9-4016-ab0a-c069744e5168",
   "metadata": {},
   "outputs": [
    {
     "name": "stdout",
     "output_type": "stream",
     "text": [
      "[0 1 2 3 4 5 6 7 8 9]\n",
      "[0 1]\n"
     ]
    }
   ],
   "source": [
    "# np.arange()\n",
    "a=np.arange(10)\n",
    "print(a)\n",
    "a=np.arange(2)\n",
    "print(a)"
   ]
  },
  {
   "cell_type": "code",
   "execution_count": 33,
   "id": "5b06a6eb-e66c-4ddf-8e77-cc9297a3a344",
   "metadata": {},
   "outputs": [
    {
     "name": "stdout",
     "output_type": "stream",
     "text": [
      "[[1]\n",
      " [3]\n",
      " [5]\n",
      " [7]\n",
      " [9]]\n"
     ]
    }
   ],
   "source": [
    "# Reshape\n",
    "b=a.reshape(5,1)\n",
    "print(b)"
   ]
  },
  {
   "cell_type": "code",
   "execution_count": 36,
   "id": "ea5d084d-0c11-4634-94f7-13d35f20e8e1",
   "metadata": {},
   "outputs": [
    {
     "name": "stdout",
     "output_type": "stream",
     "text": [
      "[[1 1 1 1 1]\n",
      " [1 1 1 1 1]]\n"
     ]
    }
   ],
   "source": [
    "# np.ones and np.zeros\n",
    "a=np.ones((10),dtype=int).reshape(2,5)\n",
    "print(a)"
   ]
  },
  {
   "cell_type": "code",
   "execution_count": 46,
   "id": "74639c95-4068-474c-86c0-1aefd37326b1",
   "metadata": {},
   "outputs": [
    {
     "name": "stdout",
     "output_type": "stream",
     "text": [
      "[[0.1466287  0.78307459 0.74082314 0.9749455 ]\n",
      " [0.9118315  0.02164346 0.65867901 0.98177592]\n",
      " [0.87555923 0.0441841  0.292418   0.94503266]]\n"
     ]
    }
   ],
   "source": [
    "#np.random\n",
    "a=np.random.random((3,4))\n",
    "print(a)"
   ]
  },
  {
   "cell_type": "code",
   "execution_count": 53,
   "id": "e56160cf-a766-49f1-a1a8-37258b425c62",
   "metadata": {},
   "outputs": [
    {
     "data": {
      "text/plain": [
       "array([10, 20])"
      ]
     },
     "execution_count": 53,
     "metadata": {},
     "output_type": "execute_result"
    }
   ],
   "source": [
    "# np.linspace\n",
    "np.linspace(10,20,2,dtype=int)"
   ]
  },
  {
   "cell_type": "code",
   "execution_count": 56,
   "id": "a14899ac-a0b6-4ea2-9526-fb068f055e07",
   "metadata": {},
   "outputs": [
    {
     "name": "stdout",
     "output_type": "stream",
     "text": [
      "[[1 0 0]\n",
      " [0 1 0]\n",
      " [0 0 1]]\n"
     ]
    }
   ],
   "source": [
    "# Identity matrix\n",
    "a=np.identity(3,dtype=int)\n",
    "print(a)"
   ]
  },
  {
   "cell_type": "markdown",
   "id": "1cf3835a-911b-4c6e-84d9-ea252d24b960",
   "metadata": {},
   "source": [
    "## Array Attributes"
   ]
  },
  {
   "cell_type": "code",
   "execution_count": 59,
   "id": "4e0dfc3e-622a-4cbb-a080-f8928d799207",
   "metadata": {},
   "outputs": [
    {
     "name": "stdout",
     "output_type": "stream",
     "text": [
      "(3, 3)\n",
      "(5, 1)\n",
      "(3,)\n"
     ]
    }
   ],
   "source": [
    "# ndim\n",
    "# shape\n",
    "print(a.shape)\n",
    "print(b.shape)\n",
    "print(x.shape)"
   ]
  },
  {
   "cell_type": "code",
   "execution_count": 61,
   "id": "124feb7a-5c84-4bf9-9560-f1b1f93062f2",
   "metadata": {},
   "outputs": [
    {
     "name": "stdout",
     "output_type": "stream",
     "text": [
      "9\n",
      "5\n",
      "3\n"
     ]
    }
   ],
   "source": [
    "# Size\n",
    "print(a.size)\n",
    "print(b.size)\n",
    "print(x.size)"
   ]
  },
  {
   "cell_type": "code",
   "execution_count": 65,
   "id": "41d61578-d3d7-4bc8-bca6-51dd6f35d79a",
   "metadata": {},
   "outputs": [
    {
     "name": "stdout",
     "output_type": "stream",
     "text": [
      "4\n"
     ]
    }
   ],
   "source": [
    "# itemsize\n",
    "print(a.itemsize)"
   ]
  },
  {
   "cell_type": "code",
   "execution_count": 66,
   "id": "1bd48f82-e375-4e15-8433-307ccd806058",
   "metadata": {},
   "outputs": [
    {
     "name": "stdout",
     "output_type": "stream",
     "text": [
      "int32\n",
      "bool\n",
      "complex128\n"
     ]
    }
   ],
   "source": [
    "# dtype\n",
    "print(a.dtype)\n",
    "print(x.dtype)\n",
    "print(z.dtype)"
   ]
  },
  {
   "cell_type": "code",
   "execution_count": 73,
   "id": "8ccec71d-f82a-439e-bd81-36b4f9c1cdc9",
   "metadata": {},
   "outputs": [
    {
     "name": "stdout",
     "output_type": "stream",
     "text": [
      "[0. 1. 1.]\n",
      "[0. 1. 1.]\n"
     ]
    }
   ],
   "source": [
    "# astype\n",
    "k=x.astype(float)\n",
    "print(k)\n",
    "k=np.array(x,dtype=float)\n",
    "print(k)"
   ]
  },
  {
   "cell_type": "code",
   "execution_count": 78,
   "id": "f1a5ea74-9179-49a5-95ec-9b3a9a965748",
   "metadata": {},
   "outputs": [
    {
     "name": "stdout",
     "output_type": "stream",
     "text": [
      "[[4 3 3]\n",
      " [3 4 3]\n",
      " [3 3 4]]\n",
      "[[7 0 0]\n",
      " [0 7 0]\n",
      " [0 0 7]]\n",
      "[[0.5 0.  0. ]\n",
      " [0.  0.5 0. ]\n",
      " [0.  0.  0.5]]\n",
      "[[0 0 0]\n",
      " [0 0 0]\n",
      " [0 0 0]]\n",
      "[[1 0 0]\n",
      " [0 1 0]\n",
      " [0 0 1]]\n"
     ]
    }
   ],
   "source": [
    "# Mathematical Operations\n",
    "# Scalar\n",
    "print(a+3)\n",
    "print(a*7)\n",
    "print(a/2)\n",
    "print(a//2)\n",
    "print(a**2)"
   ]
  },
  {
   "cell_type": "code",
   "execution_count": 79,
   "id": "efa6d84e-119d-4322-aa72-f3d0c3e99076",
   "metadata": {},
   "outputs": [
    {
     "name": "stdout",
     "output_type": "stream",
     "text": [
      "[[False  True False]\n",
      " [ True False  True]\n",
      " [False  True False]]\n"
     ]
    }
   ],
   "source": [
    "# Relational with Scalar\n",
    "a=np.array([[1,2,3],[4,5,6],[7,8,9]])\n",
    "print(a%2==0)"
   ]
  },
  {
   "cell_type": "code",
   "execution_count": 83,
   "id": "7066b9f5-0c63-422b-9020-906ca514504d",
   "metadata": {},
   "outputs": [
    {
     "name": "stdout",
     "output_type": "stream",
     "text": [
      "[[0 1 1]\n",
      " [2 2 3]\n",
      " [3 4 4]]\n",
      "[[ 1  3  4]\n",
      " [ 6  7  9]\n",
      " [10 12 13]]\n",
      "[[ 0  2  3]\n",
      " [ 8 10 18]\n",
      " [21 32 36]]\n",
      "[[13 17 19]\n",
      " [28 38 43]\n",
      " [43 59 67]]\n"
     ]
    }
   ],
   "source": [
    "# Performing on two arrays\n",
    "b=np.array(a//2)\n",
    "print(b)\n",
    "print(a+b)\n",
    "print(a*b)\n",
    "print(np.dot(a,b))"
   ]
  },
  {
   "cell_type": "code",
   "execution_count": 104,
   "id": "64575207-a04d-4d33-a907-20ce49643aa7",
   "metadata": {},
   "outputs": [
    {
     "name": "stdout",
     "output_type": "stream",
     "text": [
      "[[18. 81. 72.]\n",
      " [66. 79. 66.]\n",
      " [ 2. 22. 30.]]\n",
      "min = 2.0\n",
      "max = 81.0\n",
      "sum = 436.0\n",
      "product = 47684684551680.0\n",
      "min from every column = [ 2. 22. 30.]\n",
      "min from every row = [18. 66.  2.]\n",
      "mean = 48.44444444444444\n",
      "mean from every column = [28.66666667 60.66666667 56.        ]\n"
     ]
    }
   ],
   "source": [
    "# Stats Functions\n",
    "#max/min/sum/product\n",
    "#mean/variance/std\n",
    "a=np.random.random((3,3))\n",
    "a=np.round(a*100)\n",
    "print(a)\n",
    "print(f\"min = {np.min(a)}\")\n",
    "print(f\"max = {np.max(a)}\")\n",
    "print(f\"sum = {np.sum(a)}\")\n",
    "print(f\"product = {np.product(a)}\")\n",
    "print(f\"min from every column = {np.min(a,axis=0)}\")\n",
    "print(f\"min from every row = {np.min(a,axis=1)}\")\n",
    "print(f\"mean = {np.mean(a)}\")\n",
    "print(f\"mean from every column = {np.mean(a,axis=0)}\")"
   ]
  },
  {
   "cell_type": "code",
   "execution_count": 108,
   "id": "de758f6e-9817-4b65-841f-2da1e6cd3896",
   "metadata": {},
   "outputs": [
    {
     "name": "stdout",
     "output_type": "stream",
     "text": [
      "[[2.89037176 4.39444915 4.27666612]\n",
      " [4.18965474 4.36944785 4.18965474]\n",
      " [0.69314718 3.09104245 3.40119738]]\n",
      "[[6.56599691e+07 1.50609731e+35 1.85867175e+31]\n",
      " [4.60718663e+28 2.03828107e+34 4.60718663e+28]\n",
      " [7.38905610e+00 3.58491285e+09 1.06864746e+13]]\n"
     ]
    }
   ],
   "source": [
    "# log and exponent functions\n",
    "print(np.log(a))\n",
    "print(np.exp(a))"
   ]
  },
  {
   "cell_type": "code",
   "execution_count": 115,
   "id": "a8e15742-b208-4bfe-a1c5-3ecb2e7dbc32",
   "metadata": {},
   "outputs": [
    {
     "name": "stdout",
     "output_type": "stream",
     "text": [
      "2\n"
     ]
    }
   ],
   "source": [
    "# round floor ceil\n",
    "print(round(1.6))"
   ]
  },
  {
   "cell_type": "markdown",
   "id": "ac8cdb62-f6ae-436d-b26b-ad3c654f5a86",
   "metadata": {},
   "source": [
    "# Critical"
   ]
  },
  {
   "cell_type": "markdown",
   "id": "299bbe99-77e0-4433-ac48-c8b478e956f5",
   "metadata": {},
   "source": [
    "## Indexing and Slicing\n",
    "### Slicing array[rows , columns]"
   ]
  },
  {
   "cell_type": "code",
   "execution_count": 142,
   "id": "df8e288b-5a28-4dbe-8aa0-1f89a7d058a7",
   "metadata": {},
   "outputs": [
    {
     "name": "stdout",
     "output_type": "stream",
     "text": [
      "5\n",
      "[[1 2 3]\n",
      " [4 5 6]\n",
      " [7 8 9]]\n",
      "[[1 3]\n",
      " [4 6]]\n",
      "[[5 6]\n",
      " [8 9]]\n"
     ]
    }
   ],
   "source": [
    "a1d=np.arange(1,6)\n",
    "a2d=np.arange(1,10).reshape(3,3)\n",
    "a3d=np.arange(18).reshape(2,3,3)\n",
    "print(a1d[4])\n",
    "print(a2d)\n",
    "print(a2d[0:2,::2])\n",
    "print(a2d[1:3,1:3])"
   ]
  },
  {
   "cell_type": "code",
   "execution_count": 152,
   "id": "66e262b5-3134-4eef-8b78-30b8c27854d9",
   "metadata": {},
   "outputs": [
    {
     "name": "stdout",
     "output_type": "stream",
     "text": [
      "1 2 3 4 5 \n",
      "[1 2 3] [4 5 6] [7 8 9] \n",
      "1 2 3 4 5 6 7 8 9 \n",
      "0 1 2 3 4 5 6 7 8 9 10 11 12 13 14 15 16 17 "
     ]
    }
   ],
   "source": [
    "# iteration in arrays\n",
    "for i in a1d:\n",
    "    print(i,end=\" \")\n",
    "print()\n",
    "for i in a2d:\n",
    "    print(i,end=\" \")\n",
    "print()\n",
    "for i in a2d:\n",
    "    for j in i:\n",
    "        print(j,end=\" \")\n",
    "print()\n",
    "for i in a3d:\n",
    "    for j in i:\n",
    "        for k in j:\n",
    "            print(k,end=\" \")"
   ]
  },
  {
   "cell_type": "code",
   "execution_count": 160,
   "id": "3ae7d6ad-c9c9-4c1a-8416-1cffd3ba699b",
   "metadata": {},
   "outputs": [
    {
     "name": "stdout",
     "output_type": "stream",
     "text": [
      "Flatten creating new array and copying data into it.\n",
      "Ravel creating a view of the original array.\n"
     ]
    }
   ],
   "source": [
    "# Ravel vs flatten\n",
    "print(\"Flatten creating new array and copying data into it.\")\n",
    "print(\"Ravel creating a view of the original array.\")"
   ]
  },
  {
   "cell_type": "code",
   "execution_count": 174,
   "id": "d47af051-e484-4b30-ba87-4ba793870feb",
   "metadata": {},
   "outputs": [
    {
     "name": "stdout",
     "output_type": "stream",
     "text": [
      "[[ 0  1  2]\n",
      " [ 3  4  5]\n",
      " [ 9 10 11]]\n"
     ]
    }
   ],
   "source": [
    "# Advance indexing\n",
    "# fancy indexing :- you are actually providing square brackets or simply the indexes\n",
    "a=np.arange(12).reshape(4,3)\n",
    "print(a[[0,1,3],:])"
   ]
  },
  {
   "cell_type": "code",
   "execution_count": 190,
   "id": "477f7ef3-9ade-4ff7-8825-b3756ff43504",
   "metadata": {},
   "outputs": [
    {
     "name": "stdout",
     "output_type": "stream",
     "text": [
      "[72 77 89 86 52 98 64 61 73 75 76 72]\n"
     ]
    }
   ],
   "source": [
    "# Boolean indexing:- Filter data on a given condition\n",
    "a=np.random.randint(1,100,24).reshape(6,4)\n",
    "boolean_mask=a>50\n",
    "print(a[boolean_mask])"
   ]
  },
  {
   "cell_type": "markdown",
   "id": "7c0def9f-f15a-420f-81e6-18e649ee8753",
   "metadata": {},
   "source": [
    "# Broadcasting"
   ]
  },
  {
   "cell_type": "code",
   "execution_count": 195,
   "id": "89c522be-a150-4342-9346-a6f85af5dcfa",
   "metadata": {},
   "outputs": [
    {
     "name": "stdout",
     "output_type": "stream",
     "text": [
      "[[0 2 4]\n",
      " [3 5 7]]\n",
      "[[ 0  1  4]\n",
      " [ 0  4 10]]\n"
     ]
    }
   ],
   "source": [
    "# the smaller array is actually 'broadcasted'\n",
    "# to perform arithmatic operations on arrays with different shapes\n",
    "# it will start checking from right of both arrays\n",
    "a=np.arange(6).reshape(2,3)\n",
    "b=np.arange(3).reshape(1,3)\n",
    "print(a+b)\n",
    "print(a*b)\n",
    "# not work :- print(np.dot(a,b)) for simple arithmatic only"
   ]
  },
  {
   "cell_type": "markdown",
   "id": "7e78f275-05b6-4d7a-8df7-a16241426003",
   "metadata": {},
   "source": [
    "## Different Dimensions Broadcasting\n",
    "### Step 1:Enlarge the smaller one\n",
    "### Step 2:Add required 1's on the head of smaller one to make dimensions equal \n",
    "### Step 3:Make the sizes of dimensions of both arrays equal by stretching 1\n",
    "### Step 4:If both sizes donot match broadcasting is not possible unless one of the size of two of the dimensions is 1\n",
    "# It is done by interpreter we really donot have to write any thing"
   ]
  },
  {
   "cell_type": "code",
   "execution_count": 209,
   "id": "5af4be6e-2c50-4fec-a1b1-83d4c66e7b62",
   "metadata": {},
   "outputs": [
    {
     "name": "stdout",
     "output_type": "stream",
     "text": [
      "[ 1.  2.  3. nan  5.]\n",
      "[1. 2. 3. 5.]\n"
     ]
    }
   ],
   "source": [
    "# Working with missing Values\n",
    "a=np.array([1,2,3,np.nan,5])\n",
    "print(a)\n",
    "b=np.array(a[~np.isnan(a)])\n",
    "print(b)"
   ]
  },
  {
   "cell_type": "code",
   "execution_count": 224,
   "id": "241b290a-3b87-43b4-89f7-9754ef3dbfdc",
   "metadata": {},
   "outputs": [
    {
     "name": "stdout",
     "output_type": "stream",
     "text": [
      "[<matplotlib.lines.Line2D object at 0x000002D680F62180>]\n"
     ]
    },
    {
     "data": {
      "image/png": "[encoded data removed]",
      "text/plain": [
       "<Figure size 640x480 with 1 Axes>"
      ]
     },
     "metadata": {},
     "output_type": "display_data"
    }
   ],
   "source": [
    "import matplotlib.pyplot as plt\n",
    "x=np.linspace(-10,10,100)\n",
    "y=x**2\n",
    "print(plt.plot(x,y))"
   ]
  },
  {
   "cell_type": "markdown",
   "id": "170e8c03-0147-4df0-85b8-84bb31405510",
   "metadata": {},
   "source": [
    "# Numpy Tricks"
   ]
  },
  {
   "cell_type": "code",
   "execution_count": 243,
   "id": "95b8d6ba-243e-4cbc-aec7-ebe0b142a1c2",
   "metadata": {},
   "outputs": [
    {
     "name": "stdout",
     "output_type": "stream",
     "text": [
      "[91 76 61 46 31 16  1]\n",
      "[[3 5 1]\n",
      " [6 8 9]\n",
      " [1 6 4]\n",
      " [0 3 6]]\n",
      "[[0 3 1]\n",
      " [1 5 4]\n",
      " [3 6 6]\n",
      " [6 8 9]]\n"
     ]
    }
   ],
   "source": [
    "# np.sort\n",
    "a=np.arange(1,100,15)\n",
    "b=np.array([[3,5,1],[6,8,9],[1,6,4],[0,3,6]]).reshape(4,3)\n",
    "print(np.sort(a)[::-1])\n",
    "print(b)\n",
    "print(np.sort(b,axis=0))"
   ]
  },
  {
   "cell_type": "code",
   "execution_count": 240,
   "id": "1ff0ccea-d690-4e4f-af44-3e3687cffa87",
   "metadata": {},
   "outputs": [
    {
     "name": "stdout",
     "output_type": "stream",
     "text": [
      "[[1 2 3]\n",
      " [4 5 6]]\n",
      "[[1 2 3 9 8 7]\n",
      " [4 5 6 2 4 5]]\n"
     ]
    }
   ],
   "source": [
    "# np.concatenate\n",
    "a=np.array([[1,2,3],[4,5,6]])\n",
    "print(a)\n",
    "b=np.array([[9,8,7],[2,4,5]])\n",
    "print(np.concatenate((a,b),axis=1))"
   ]
  },
  {
   "cell_type": "code",
   "execution_count": 246,
   "id": "e010d4b9-8549-4d2e-aeb2-711ae14fb92f",
   "metadata": {},
   "outputs": [
    {
     "name": "stdout",
     "output_type": "stream",
     "text": [
      "[1 2 4 5]\n"
     ]
    }
   ],
   "source": [
    "# unique\n",
    "a=np.array([[1,2,1],[1,4,5]])\n",
    "print(np.unique(a))"
   ]
  },
  {
   "cell_type": "code",
   "execution_count": 248,
   "id": "cdee0dd0-362b-49a8-b2fa-200effe5a810",
   "metadata": {},
   "outputs": [
    {
     "name": "stdout",
     "output_type": "stream",
     "text": [
      "[[1]\n",
      " [2]\n",
      " [3]\n",
      " [4]\n",
      " [5]\n",
      " [6]]\n"
     ]
    }
   ],
   "source": [
    "# expand_dims\n",
    "a=np.array([1,2,3,4,5,6])\n",
    "print(np.expand_dims(a,axis=1))"
   ]
  },
  {
   "cell_type": "markdown",
   "id": "ebc14b4d-0371-4693-a947-15b6b97eaf23",
   "metadata": {},
   "source": [
    "# Critical \n",
    "## Where function"
   ]
  },
  {
   "cell_type": "code",
   "execution_count": 253,
   "id": "94d5e391-94b5-4cb3-81e9-eb7685b25744",
   "metadata": {},
   "outputs": [
    {
     "name": "stdout",
     "output_type": "stream",
     "text": [
      "[0 2 0 4 0 6]\n"
     ]
    }
   ],
   "source": [
    "# np.where\n",
    "b=np.where(a%2==0,a,0)\n",
    "print(b)"
   ]
  },
  {
   "cell_type": "code",
   "execution_count": 271,
   "id": "a933631d-3d18-4d8b-8d2e-e69de58d7612",
   "metadata": {},
   "outputs": [
    {
     "name": "stdout",
     "output_type": "stream",
     "text": [
      "6\n",
      "2 0\n"
     ]
    }
   ],
   "source": [
    "# np.argmax\n",
    "a=np.array([[1,3,6],[2,5,8],[9,7,4]])\n",
    "print(np.argmax(a))\n",
    "row, column = np.unravel_index(np.argmax(a),a.shape)\n",
    "print(row, column)"
   ]
  },
  {
   "cell_type": "markdown",
   "id": "d31a9112-1dc1-4f96-a7de-43049e9b0308",
   "metadata": {},
   "source": [
    "# Percentile\n",
    "## Important Calculation"
   ]
  },
  {
   "cell_type": "code",
   "execution_count": 280,
   "id": "b566e833-6c95-4f39-b3c8-955e7027d1b2",
   "metadata": {},
   "outputs": [
    {
     "name": "stdout",
     "output_type": "stream",
     "text": [
      "[1 3 6 2 5 8 9 7 4]\n"
     ]
    },
    {
     "data": {
      "text/plain": [
       "9.0"
      ]
     },
     "execution_count": 280,
     "metadata": {},
     "output_type": "execute_result"
    }
   ],
   "source": [
    "b=a.flatten()\n",
    "print(b)\n",
    "np.percentile(b,100)"
   ]
  },
  {
   "cell_type": "code",
   "execution_count": null,
   "id": "e17f949f-f369-438c-89e8-bba345c51cfa",
   "metadata": {},
   "outputs": [],
   "source": []
  }
 ],
 "metadata": {
  "kernelspec": {
   "display_name": "Python 3 (ipykernel)",
   "language": "python",
   "name": "python3"
  },
  "language_info": {
   "codemirror_mode": {
    "name": "ipython",
    "version": 3
   },
   "file_extension": ".py",
   "mimetype": "text/x-python",
   "name": "python",
   "nbconvert_exporter": "python",
   "pygments_lexer": "ipython3",
   "version": "3.12.7"
  }
 },
 "nbformat": 4,
 "nbformat_minor": 5
}
